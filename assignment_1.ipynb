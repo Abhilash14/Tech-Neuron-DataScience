{
  "nbformat": 4,
  "nbformat_minor": 0,
  "metadata": {
    "colab": {
      "name": "assignment_1.ipynb",
      "provenance": [],
      "collapsed_sections": []
    },
    "kernelspec": {
      "name": "python3",
      "display_name": "Python 3"
    },
    "language_info": {
      "name": "python"
    }
  },
  "cells": [
    {
      "cell_type": "markdown",
      "source": [
        "## **DATA SCIENCE MASTERS - ASSIGNMENT 1 (PYTHON BASICS)**"
      ],
      "metadata": {
        "id": "u_7bzYC0jyaH"
      }
    },
    {
      "cell_type": "markdown",
      "source": [
        "**Q1.** In the below elements which of them are values or an \n",
        "expression? eg:- values can be integer or string and expressions will be mathematical operators.\n",
        "\n",
        "**Ans:**\n",
        "1. \\* **(expression)**\n",
        "2. 'hello' **(value)**\n",
        "3. -87.8 **(value)**\n",
        "4. \\- **(expression)**\n",
        "5. / **(expression)**\n",
        "6. \\+\t**(expression)**\n",
        "7. 6 **(value)**"
      ],
      "metadata": {
        "id": "ePeC6YAQkEEc"
      }
    },
    {
      "cell_type": "markdown",
      "source": [
        "**Q2.** What is the difference between string and variable?\n",
        "\n",
        "**Ans:** \n",
        "\n",
        "**Variable** is a reserved memory location to store values. These values can be of different datatypes like int, float, string, list, tuple, dictionary etc. Ex: a=5, b='hello'; here 'a' and 'b' are variables\n",
        "\n",
        "**String** is a type of value that can be stored in variable. A string is made of characters in sequential order. These characters include letters, words, sentences etc. String is written either in single quotes or double quotes. Ex: s=\"Hello World!\", here \"Hello World!\" is a string stored in variable 's'"
      ],
      "metadata": {
        "id": "SNhB7asxSwYR"
      }
    },
    {
      "cell_type": "markdown",
      "source": [
        "**Q3.** Describe three different data types.\n",
        "\n",
        "**Ans:** \n",
        "* **List:** List is an ordered collection of objects of heterogenous datatypes. List objects are mutable where items in list can be modified. Lists can be created by placing the sequence of objects inside the square brackets [ ]. Ex: l = [10, 30.5, 'hello']\n",
        "* **Tuple:** Tuple is also an ordered collection of objects of heterogenous datatypes. But, tuple objects are immutable where objects in the tuple cannot be modified after creation. Ex: t = (10, 34, 'hello')\n",
        "* **Dictionary:** Dictionary is an unordered collection of objects stored in key:value pair. Keys cannot be repeated and immutable whereas values can be of any data type with duplicates allowed. Ex: d = {'Name': 'ABC', 'Pay':10000}\n",
        "\n"
      ],
      "metadata": {
        "id": "40aP7goSWbE1"
      }
    },
    {
      "cell_type": "markdown",
      "source": [
        "**Q4.** What is an expression made up of? What do all expressions do?\n",
        "\n",
        "**Ans:** Expression is a combination of operators and operands that yields a result value. Expression is evaluated as per precedence of its operators. Expressions helps in evaluation the arithmatic, logical, relational operations etc. Ex: \n",
        "\n",
        "```\n",
        "x = 10+20.5\n",
        "print(x)\n",
        ">>> 30.5\n",
        "\n",
        "a = 5\n",
        "b = 7\n",
        "sum = a+b (addition)\n",
        "sub = a-b (subtraction)\n",
        "multi = a*b (multiplication)\n",
        "div = a/b (division)\n",
        "rem = a%b (remainder)\n",
        "```\n",
        "\n"
      ],
      "metadata": {
        "id": "x2JD_y1OXI-x"
      }
    },
    {
      "cell_type": "markdown",
      "source": [
        "**Q5.** This assignment statements, like spam = 10. What is the difference between an expression and a statement?\n",
        "\n",
        "**Ans:** **Expression** is a combination of operators and operands that yields a result value. Evaluation of expression always returns result value. **Statement** represents the action or command eg. print statement, assignment statements etc. Evaluation of statement may or may not return result value. It is just a standalone unit of execution."
      ],
      "metadata": {
        "id": "5zogccB6XT4e"
      }
    },
    {
      "cell_type": "markdown",
      "source": [
        "**Q6.** After running the following code, what does the variable bacon contain?\n",
        "```\n",
        "bacon = 22\n",
        "bacon + 1\n",
        "```\n",
        "**Ans:** bacon = 22"
      ],
      "metadata": {
        "id": "_rs3kKQUXadY"
      }
    },
    {
      "cell_type": "code",
      "source": [
        "bacon = 22\n",
        "bacon + 1\n",
        "print(bacon)"
      ],
      "metadata": {
        "colab": {
          "base_uri": "https://localhost:8080/"
        },
        "id": "cvxlq7yZX0GY",
        "outputId": "7191f7ba-79d3-4776-d5fd-91b51a3b9846"
      },
      "execution_count": 4,
      "outputs": [
        {
          "output_type": "stream",
          "name": "stdout",
          "text": [
            "22\n"
          ]
        }
      ]
    },
    {
      "cell_type": "markdown",
      "source": [
        "**Q7.** What should the values of following two terms be?\n",
        "\n",
        "```\n",
        "'spam' + 'spamspam'\n",
        "'spam' *3\n",
        "```\n",
        "**Ans:** \n",
        "\n",
        "```\n",
        "'spam' + 'spamspam' = 'spamspamspam'\n",
        "'spam' *3 = 'spamspamspam'\n",
        "```"
      ],
      "metadata": {
        "id": "NtGXU-gbYlF4"
      }
    },
    {
      "cell_type": "code",
      "source": [
        "print('spam' + 'spamspam')\n",
        "print('spam' *3)"
      ],
      "metadata": {
        "colab": {
          "base_uri": "https://localhost:8080/"
        },
        "id": "PJidXtsLZUC6",
        "outputId": "cf751f9e-a091-477f-b97a-4602055f3287"
      },
      "execution_count": 6,
      "outputs": [
        {
          "output_type": "stream",
          "name": "stdout",
          "text": [
            "spamspamspam\n",
            "spamspamspam\n"
          ]
        }
      ]
    },
    {
      "cell_type": "markdown",
      "source": [
        "**Q8.** Why is eggs a valid variable name while 100 is invalid?\n",
        "\n",
        "**Ans:** **eggs** is a valid variable because it starts with a letter, does not contain special characters and not a reserved keyword. **100** is not a valid variable because it starts with a number. As per rules for creating variables in python, a variable cannot start with number. "
      ],
      "metadata": {
        "id": "CWM1FY_BZvab"
      }
    },
    {
      "cell_type": "markdown",
      "source": [
        "**9.** What three functions can be used to get the integer, floating-point number, or string version of a value?\n",
        "\n",
        "**Ans:** \n",
        "* **int()** function is used to get integer version of a value. Ex: int(\"10\") = 10\n",
        "* **float()** function is used to get float version of a value. Ex: float(\"10.9\") = 10.9\n",
        "* **str()** function is used to get string version of a value: Ex: str(10) = '10'"
      ],
      "metadata": {
        "id": "0g198BBvb_TJ"
      }
    },
    {
      "cell_type": "markdown",
      "source": [
        "**10.** Why does this expression cause an error? How can you fix it?\n",
        "```\n",
        "'I have eaten ' + 99 + ' burritos.'\n",
        "```\n",
        "**Ans:** String can be concatenated only with string value. String cannot be concatenated with other data types like int, float etc. So, to fix above expression, we have to type cast **99** to string with **str**() function. \n",
        "```\n",
        "'I have eaten ' + str(99) + ' burritos.'\n",
        "```\n",
        "\n",
        "\n"
      ],
      "metadata": {
        "id": "s1-vI0ApeBfV"
      }
    },
    {
      "cell_type": "code",
      "source": [
        "'I have eaten ' + str(99) + ' burritos.'"
      ],
      "metadata": {
        "colab": {
          "base_uri": "https://localhost:8080/",
          "height": 35
        },
        "id": "ESRIPg1CjpEi",
        "outputId": "cf276376-fd27-4559-c70b-c2e603c02d60"
      },
      "execution_count": 10,
      "outputs": [
        {
          "output_type": "execute_result",
          "data": {
            "application/vnd.google.colaboratory.intrinsic+json": {
              "type": "string"
            },
            "text/plain": [
              "'I have eaten 99 burritos.'"
            ]
          },
          "metadata": {},
          "execution_count": 10
        }
      ]
    }
  ]
}